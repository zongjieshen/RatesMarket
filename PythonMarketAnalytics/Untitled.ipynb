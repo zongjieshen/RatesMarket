{
 "cells": [
  {
   "cell_type": "code",
   "execution_count": 5,
   "id": "fa00c06c",
   "metadata": {},
   "outputs": [],
   "source": [
    "import Market as mkt\n",
    "import pandas as pd\n",
    "from datetime import datetime, timedelta\n",
    "valueDate = datetime(2021, 12, 31)\n",
    "\n",
    "filepath = r'C:\\Users\\Zongjie\\source\\repos\\MarketBuilding\\PythonApplication1\\MarketData\\BondYield.xlsx'\n",
    "\n",
    "baseMarket = mkt.MarketFactory.Create('baseMarket',valueDate,filepath)\n"
   ]
  },
  {
   "cell_type": "code",
   "execution_count": 11,
   "id": "a4c9a99e",
   "metadata": {},
   "outputs": [
    {
     "data": {
      "text/plain": [
       "list"
      ]
     },
     "execution_count": 11,
     "metadata": {},
     "output_type": "execute_result"
    }
   ],
   "source": [
    "curve = baseMarket.marketItems['AUDSwap']\n",
    "dv01 = curve.Dv01AtEachPillar('pillar',-0.0001)\n",
    "type(dv01)"
   ]
  }
 ],
 "metadata": {
  "kernelspec": {
   "display_name": "Python 3",
   "language": "python",
   "name": "python3"
  },
  "language_info": {
   "codemirror_mode": {
    "name": "ipython",
    "version": 3
   },
   "file_extension": ".py",
   "mimetype": "text/x-python",
   "name": "python",
   "nbconvert_exporter": "python",
   "pygments_lexer": "ipython3",
   "version": "3.8.8"
  }
 },
 "nbformat": 4,
 "nbformat_minor": 5
}
